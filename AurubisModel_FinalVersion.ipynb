{
 "cells": [
  {
   "cell_type": "code",
   "execution_count": 1,
   "metadata": {
    "colab": {},
    "colab_type": "code",
    "id": "UBm87yj6_4p3"
   },
   "outputs": [],
   "source": [
    "import pandas as pd\n",
    "import numpy as np\n",
    "import openpyxl\n",
    "import matplotlib.pyplot as plt\n",
    "import matplotlib.dates\n",
    "from matplotlib.dates import date2num\n",
    "import seaborn as sns \n",
    "import warnings\n",
    "import plotly.graph_objs as go\n",
    "from plotly.offline import init_notebook_mode, iplot\n",
    "%matplotlib inline\n",
    "warnings.filterwarnings(\"ignore\")"
   ]
  },
  {
   "cell_type": "markdown",
   "metadata": {},
   "source": [
    "# 1. Load And Clean Data"
   ]
  },
  {
   "cell_type": "code",
   "execution_count": 2,
   "metadata": {
    "colab": {
     "base_uri": "https://localhost:8080/",
     "height": 212
    },
    "colab_type": "code",
    "id": "r0sfej5y_4p5",
    "outputId": "025d0064-2f1a-4550-ccaf-971812082749",
    "scrolled": true
   },
   "outputs": [
    {
     "data": {
      "text/html": [
       "<div>\n",
       "<style scoped>\n",
       "    .dataframe tbody tr th:only-of-type {\n",
       "        vertical-align: middle;\n",
       "    }\n",
       "\n",
       "    .dataframe tbody tr th {\n",
       "        vertical-align: top;\n",
       "    }\n",
       "\n",
       "    .dataframe thead th {\n",
       "        text-align: right;\n",
       "    }\n",
       "</style>\n",
       "<table border=\"1\" class=\"dataframe\">\n",
       "  <thead>\n",
       "    <tr style=\"text-align: right;\">\n",
       "      <th></th>\n",
       "      <th>Order Id</th>\n",
       "      <th>Coil Id</th>\n",
       "      <th>Machine Sequence</th>\n",
       "      <th>Machine Id</th>\n",
       "      <th>Metal Density</th>\n",
       "      <th>Alloy Type</th>\n",
       "      <th>Start Gauge</th>\n",
       "      <th>Start Width</th>\n",
       "      <th>Start Lbs</th>\n",
       "      <th>Finish lbs</th>\n",
       "      <th>Actual Yield</th>\n",
       "      <th>Standard Yield</th>\n",
       "      <th>Start date</th>\n",
       "      <th>Finish date</th>\n",
       "    </tr>\n",
       "  </thead>\n",
       "  <tbody>\n",
       "    <tr>\n",
       "      <th>0</th>\n",
       "      <td>1154</td>\n",
       "      <td>693873</td>\n",
       "      <td>30</td>\n",
       "      <td>44</td>\n",
       "      <td>0.308</td>\n",
       "      <td>2608.0</td>\n",
       "      <td>0.2500</td>\n",
       "      <td>38.41</td>\n",
       "      <td>20989</td>\n",
       "      <td>20209</td>\n",
       "      <td>0.962838</td>\n",
       "      <td>0.995705</td>\n",
       "      <td>2019/3/27</td>\n",
       "      <td>2019/3/27</td>\n",
       "    </tr>\n",
       "    <tr>\n",
       "      <th>1</th>\n",
       "      <td>1154</td>\n",
       "      <td>693873</td>\n",
       "      <td>40</td>\n",
       "      <td>133</td>\n",
       "      <td>0.308</td>\n",
       "      <td>2608.0</td>\n",
       "      <td>0.0905</td>\n",
       "      <td>38.41</td>\n",
       "      <td>20209</td>\n",
       "      <td>20209</td>\n",
       "      <td>1.000000</td>\n",
       "      <td>0.994892</td>\n",
       "      <td>2019/3/27</td>\n",
       "      <td>2019/3/28</td>\n",
       "    </tr>\n",
       "    <tr>\n",
       "      <th>2</th>\n",
       "      <td>1154</td>\n",
       "      <td>693873</td>\n",
       "      <td>50</td>\n",
       "      <td>68</td>\n",
       "      <td>0.308</td>\n",
       "      <td>2608.0</td>\n",
       "      <td>0.0905</td>\n",
       "      <td>38.41</td>\n",
       "      <td>20209</td>\n",
       "      <td>20209</td>\n",
       "      <td>1.000000</td>\n",
       "      <td>0.838448</td>\n",
       "      <td>2019/3/28</td>\n",
       "      <td>2019/3/28</td>\n",
       "    </tr>\n",
       "    <tr>\n",
       "      <th>3</th>\n",
       "      <td>1154</td>\n",
       "      <td>693874</td>\n",
       "      <td>30</td>\n",
       "      <td>44</td>\n",
       "      <td>0.308</td>\n",
       "      <td>2608.0</td>\n",
       "      <td>0.2500</td>\n",
       "      <td>38.43</td>\n",
       "      <td>19534</td>\n",
       "      <td>19590</td>\n",
       "      <td>1.002867</td>\n",
       "      <td>0.995705</td>\n",
       "      <td>2019/3/27</td>\n",
       "      <td>2019/3/27</td>\n",
       "    </tr>\n",
       "    <tr>\n",
       "      <th>4</th>\n",
       "      <td>1154</td>\n",
       "      <td>693874</td>\n",
       "      <td>40</td>\n",
       "      <td>133</td>\n",
       "      <td>0.308</td>\n",
       "      <td>2608.0</td>\n",
       "      <td>0.0905</td>\n",
       "      <td>38.43</td>\n",
       "      <td>19590</td>\n",
       "      <td>19590</td>\n",
       "      <td>1.000000</td>\n",
       "      <td>0.994892</td>\n",
       "      <td>2019/3/27</td>\n",
       "      <td>2019/3/28</td>\n",
       "    </tr>\n",
       "  </tbody>\n",
       "</table>\n",
       "</div>"
      ],
      "text/plain": [
       "   Order Id Coil Id  Machine Sequence  Machine Id  Metal Density  Alloy Type  \\\n",
       "0      1154  693873                30          44          0.308      2608.0   \n",
       "1      1154  693873                40         133          0.308      2608.0   \n",
       "2      1154  693873                50          68          0.308      2608.0   \n",
       "3      1154  693874                30          44          0.308      2608.0   \n",
       "4      1154  693874                40         133          0.308      2608.0   \n",
       "\n",
       "   Start Gauge  Start Width  Start Lbs  Finish lbs  Actual Yield  \\\n",
       "0       0.2500        38.41      20989       20209      0.962838   \n",
       "1       0.0905        38.41      20209       20209      1.000000   \n",
       "2       0.0905        38.41      20209       20209      1.000000   \n",
       "3       0.2500        38.43      19534       19590      1.002867   \n",
       "4       0.0905        38.43      19590       19590      1.000000   \n",
       "\n",
       "   Standard Yield Start date Finish date  \n",
       "0        0.995705  2019/3/27   2019/3/27  \n",
       "1        0.994892  2019/3/27   2019/3/28  \n",
       "2        0.838448  2019/3/28   2019/3/28  \n",
       "3        0.995705  2019/3/27   2019/3/27  \n",
       "4        0.994892  2019/3/27   2019/3/28  "
      ]
     },
     "execution_count": 2,
     "metadata": {},
     "output_type": "execute_result"
    }
   ],
   "source": [
    "Aurubis = pd.read_csv('Arubis.csv')\n",
    "Aurubis = Aurubis.rename(columns={\"Mchine Sequence\": \"Machine Sequence\"})\n",
    "Aurubis.head()"
   ]
  },
  {
   "cell_type": "code",
   "execution_count": 3,
   "metadata": {
    "colab": {},
    "colab_type": "code",
    "id": "jnMXS85y_4p8"
   },
   "outputs": [],
   "source": [
    "Aurubis = Aurubis.drop(['Finish lbs', 'Finish date', 'Order Id', 'Coil Id','Machine Sequence', 'Machine Id', 'Alloy Type'], axis=1) # Drop useless columns\n",
    "Aurubis = Aurubis[Aurubis['Actual Yield'] <= 1] # Limit the actual yield to be less than 1"
   ]
  },
  {
   "cell_type": "code",
   "execution_count": 4,
   "metadata": {
    "colab": {
     "base_uri": "https://localhost:8080/",
     "height": 284
    },
    "colab_type": "code",
    "id": "i0Q8To8E_4p9",
    "outputId": "ff0ce974-e35d-4b2c-8722-0d2aa1a84d58"
   },
   "outputs": [
    {
     "data": {
      "text/html": [
       "<div>\n",
       "<style scoped>\n",
       "    .dataframe tbody tr th:only-of-type {\n",
       "        vertical-align: middle;\n",
       "    }\n",
       "\n",
       "    .dataframe tbody tr th {\n",
       "        vertical-align: top;\n",
       "    }\n",
       "\n",
       "    .dataframe thead th {\n",
       "        text-align: right;\n",
       "    }\n",
       "</style>\n",
       "<table border=\"1\" class=\"dataframe\">\n",
       "  <thead>\n",
       "    <tr style=\"text-align: right;\">\n",
       "      <th></th>\n",
       "      <th>Metal Density</th>\n",
       "      <th>Start Gauge</th>\n",
       "      <th>Start Width</th>\n",
       "      <th>Start Lbs</th>\n",
       "      <th>Actual Yield</th>\n",
       "      <th>Standard Yield</th>\n",
       "    </tr>\n",
       "  </thead>\n",
       "  <tbody>\n",
       "    <tr>\n",
       "      <th>count</th>\n",
       "      <td>108235.000000</td>\n",
       "      <td>108235.000000</td>\n",
       "      <td>108235.000000</td>\n",
       "      <td>108235.000000</td>\n",
       "      <td>108235.000000</td>\n",
       "      <td>108235.000000</td>\n",
       "    </tr>\n",
       "    <tr>\n",
       "      <th>mean</th>\n",
       "      <td>0.317302</td>\n",
       "      <td>0.066604</td>\n",
       "      <td>27.449758</td>\n",
       "      <td>13789.290267</td>\n",
       "      <td>0.938528</td>\n",
       "      <td>0.942115</td>\n",
       "    </tr>\n",
       "    <tr>\n",
       "      <th>std</th>\n",
       "      <td>0.006578</td>\n",
       "      <td>0.096071</td>\n",
       "      <td>10.728527</td>\n",
       "      <td>6946.955808</td>\n",
       "      <td>0.182471</td>\n",
       "      <td>0.088655</td>\n",
       "    </tr>\n",
       "    <tr>\n",
       "      <th>min</th>\n",
       "      <td>0.000000</td>\n",
       "      <td>0.000000</td>\n",
       "      <td>0.935000</td>\n",
       "      <td>10.000000</td>\n",
       "      <td>0.000900</td>\n",
       "      <td>0.105152</td>\n",
       "    </tr>\n",
       "    <tr>\n",
       "      <th>25%</th>\n",
       "      <td>0.308000</td>\n",
       "      <td>0.012400</td>\n",
       "      <td>25.000000</td>\n",
       "      <td>7841.000000</td>\n",
       "      <td>0.960662</td>\n",
       "      <td>0.920011</td>\n",
       "    </tr>\n",
       "    <tr>\n",
       "      <th>50%</th>\n",
       "      <td>0.321000</td>\n",
       "      <td>0.023000</td>\n",
       "      <td>27.010000</td>\n",
       "      <td>14093.000000</td>\n",
       "      <td>1.000000</td>\n",
       "      <td>0.980084</td>\n",
       "    </tr>\n",
       "    <tr>\n",
       "      <th>75%</th>\n",
       "      <td>0.322000</td>\n",
       "      <td>0.064300</td>\n",
       "      <td>38.150000</td>\n",
       "      <td>19307.000000</td>\n",
       "      <td>1.000000</td>\n",
       "      <td>0.998242</td>\n",
       "    </tr>\n",
       "    <tr>\n",
       "      <th>max</th>\n",
       "      <td>0.323000</td>\n",
       "      <td>0.650000</td>\n",
       "      <td>51.650000</td>\n",
       "      <td>32126.000000</td>\n",
       "      <td>1.000000</td>\n",
       "      <td>2.569125</td>\n",
       "    </tr>\n",
       "  </tbody>\n",
       "</table>\n",
       "</div>"
      ],
      "text/plain": [
       "       Metal Density    Start Gauge    Start Width      Start Lbs  \\\n",
       "count  108235.000000  108235.000000  108235.000000  108235.000000   \n",
       "mean        0.317302       0.066604      27.449758   13789.290267   \n",
       "std         0.006578       0.096071      10.728527    6946.955808   \n",
       "min         0.000000       0.000000       0.935000      10.000000   \n",
       "25%         0.308000       0.012400      25.000000    7841.000000   \n",
       "50%         0.321000       0.023000      27.010000   14093.000000   \n",
       "75%         0.322000       0.064300      38.150000   19307.000000   \n",
       "max         0.323000       0.650000      51.650000   32126.000000   \n",
       "\n",
       "        Actual Yield  Standard Yield  \n",
       "count  108235.000000   108235.000000  \n",
       "mean        0.938528        0.942115  \n",
       "std         0.182471        0.088655  \n",
       "min         0.000900        0.105152  \n",
       "25%         0.960662        0.920011  \n",
       "50%         1.000000        0.980084  \n",
       "75%         1.000000        0.998242  \n",
       "max         1.000000        2.569125  "
      ]
     },
     "execution_count": 4,
     "metadata": {},
     "output_type": "execute_result"
    }
   ],
   "source": [
    "Aurubis.describe()"
   ]
  },
  {
   "cell_type": "code",
   "execution_count": 5,
   "metadata": {
    "colab": {
     "base_uri": "https://localhost:8080/",
     "height": 202
    },
    "colab_type": "code",
    "id": "NS0V7Irc_4qA",
    "outputId": "ec4eeefc-aa4b-4f20-b43b-1e3131b38b6d"
   },
   "outputs": [
    {
     "data": {
      "text/plain": [
       "Metal Density     False\n",
       "Start Gauge       False\n",
       "Start Width       False\n",
       "Start Lbs         False\n",
       "Actual Yield      False\n",
       "Standard Yield    False\n",
       "Start date        False\n",
       "dtype: bool"
      ]
     },
     "execution_count": 5,
     "metadata": {},
     "output_type": "execute_result"
    }
   ],
   "source": [
    "Aurubis.isnull().any() "
   ]
  },
  {
   "cell_type": "code",
   "execution_count": 6,
   "metadata": {
    "colab": {},
    "colab_type": "code",
    "id": "b4ZwGUxH_4qC"
   },
   "outputs": [],
   "source": [
    "Aurubis = Aurubis.dropna() # Remove rows containing null values"
   ]
  },
  {
   "cell_type": "markdown",
   "metadata": {},
   "source": [
    "# 2. Feature Engineering"
   ]
  },
  {
   "cell_type": "code",
   "execution_count": 7,
   "metadata": {
    "colab": {},
    "colab_type": "code",
    "id": "G1mpgey2_4qI"
   },
   "outputs": [],
   "source": [
    "Aurubis['Start date'] = pd.to_datetime(Aurubis['Start date'], \n",
    " format = '%Y-%m-%d', \n",
    " errors = 'coerce')"
   ]
  },
  {
   "cell_type": "code",
   "execution_count": 8,
   "metadata": {
    "colab": {
     "base_uri": "https://localhost:8080/",
     "height": 345
    },
    "colab_type": "code",
    "id": "-MrPSyOlBVk3",
    "outputId": "7857685a-5dd1-4fe2-f359-68ba15a3d073",
    "scrolled": true
   },
   "outputs": [
    {
     "data": {
      "text/html": [
       "<div>\n",
       "<style scoped>\n",
       "    .dataframe tbody tr th:only-of-type {\n",
       "        vertical-align: middle;\n",
       "    }\n",
       "\n",
       "    .dataframe tbody tr th {\n",
       "        vertical-align: top;\n",
       "    }\n",
       "\n",
       "    .dataframe thead th {\n",
       "        text-align: right;\n",
       "    }\n",
       "</style>\n",
       "<table border=\"1\" class=\"dataframe\">\n",
       "  <thead>\n",
       "    <tr style=\"text-align: right;\">\n",
       "      <th></th>\n",
       "      <th>Metal Density</th>\n",
       "      <th>Start Gauge</th>\n",
       "      <th>Start Width</th>\n",
       "      <th>Start Lbs</th>\n",
       "      <th>Actual Yield</th>\n",
       "      <th>Standard Yield</th>\n",
       "      <th>Start date</th>\n",
       "    </tr>\n",
       "  </thead>\n",
       "  <tbody>\n",
       "    <tr>\n",
       "      <th>0</th>\n",
       "      <td>0.308</td>\n",
       "      <td>0.2500</td>\n",
       "      <td>38.41</td>\n",
       "      <td>20989</td>\n",
       "      <td>0.962838</td>\n",
       "      <td>0.995705</td>\n",
       "      <td>2019-03-27</td>\n",
       "    </tr>\n",
       "    <tr>\n",
       "      <th>1</th>\n",
       "      <td>0.308</td>\n",
       "      <td>0.0905</td>\n",
       "      <td>38.41</td>\n",
       "      <td>20209</td>\n",
       "      <td>1.000000</td>\n",
       "      <td>0.994892</td>\n",
       "      <td>2019-03-27</td>\n",
       "    </tr>\n",
       "    <tr>\n",
       "      <th>2</th>\n",
       "      <td>0.308</td>\n",
       "      <td>0.0905</td>\n",
       "      <td>38.41</td>\n",
       "      <td>20209</td>\n",
       "      <td>1.000000</td>\n",
       "      <td>0.838448</td>\n",
       "      <td>2019-03-28</td>\n",
       "    </tr>\n",
       "    <tr>\n",
       "      <th>4</th>\n",
       "      <td>0.308</td>\n",
       "      <td>0.0905</td>\n",
       "      <td>38.43</td>\n",
       "      <td>19590</td>\n",
       "      <td>1.000000</td>\n",
       "      <td>0.994892</td>\n",
       "      <td>2019-03-27</td>\n",
       "    </tr>\n",
       "    <tr>\n",
       "      <th>5</th>\n",
       "      <td>0.308</td>\n",
       "      <td>0.0905</td>\n",
       "      <td>38.43</td>\n",
       "      <td>19590</td>\n",
       "      <td>1.000000</td>\n",
       "      <td>0.838448</td>\n",
       "      <td>2019-03-28</td>\n",
       "    </tr>\n",
       "  </tbody>\n",
       "</table>\n",
       "</div>"
      ],
      "text/plain": [
       "   Metal Density  Start Gauge  Start Width  Start Lbs  Actual Yield  \\\n",
       "0          0.308       0.2500        38.41      20989      0.962838   \n",
       "1          0.308       0.0905        38.41      20209      1.000000   \n",
       "2          0.308       0.0905        38.41      20209      1.000000   \n",
       "4          0.308       0.0905        38.43      19590      1.000000   \n",
       "5          0.308       0.0905        38.43      19590      1.000000   \n",
       "\n",
       "   Standard Yield Start date  \n",
       "0        0.995705 2019-03-27  \n",
       "1        0.994892 2019-03-27  \n",
       "2        0.838448 2019-03-28  \n",
       "4        0.994892 2019-03-27  \n",
       "5        0.838448 2019-03-28  "
      ]
     },
     "execution_count": 8,
     "metadata": {},
     "output_type": "execute_result"
    }
   ],
   "source": [
    "Aurubis.head()"
   ]
  },
  {
   "cell_type": "markdown",
   "metadata": {},
   "source": [
    "### Extract Useful Information From Date Variable"
   ]
  },
  {
   "cell_type": "code",
   "execution_count": 9,
   "metadata": {
    "colab": {},
    "colab_type": "code",
    "id": "fnPjSisF_4qM"
   },
   "outputs": [],
   "source": [
    "Aurubis['Start date_year'] = Aurubis['Start date'].dt.year\n",
    "Aurubis['Start date_month'] = Aurubis['Start date'].dt.month\n",
    "Aurubis['Start date_week'] = Aurubis['Start date'].dt.week\n",
    "Aurubis['Start date_day'] = Aurubis['Start date'].dt.day\n",
    "Aurubis['Start date_dayofweek'] = Aurubis['Start date'].dt.dayofweek\n",
    "Aurubis['Weekend'] = Aurubis['Start date_dayofweek']>4"
   ]
  },
  {
   "cell_type": "code",
   "execution_count": 10,
   "metadata": {
    "colab": {
     "base_uri": "https://localhost:8080/",
     "height": 345
    },
    "colab_type": "code",
    "id": "aLDIv47T_4qO",
    "outputId": "8597c21c-5d0b-4169-926e-e4c1c71dcec9"
   },
   "outputs": [
    {
     "data": {
      "text/html": [
       "<div>\n",
       "<style scoped>\n",
       "    .dataframe tbody tr th:only-of-type {\n",
       "        vertical-align: middle;\n",
       "    }\n",
       "\n",
       "    .dataframe tbody tr th {\n",
       "        vertical-align: top;\n",
       "    }\n",
       "\n",
       "    .dataframe thead th {\n",
       "        text-align: right;\n",
       "    }\n",
       "</style>\n",
       "<table border=\"1\" class=\"dataframe\">\n",
       "  <thead>\n",
       "    <tr style=\"text-align: right;\">\n",
       "      <th></th>\n",
       "      <th>Metal Density</th>\n",
       "      <th>Start Gauge</th>\n",
       "      <th>Start Width</th>\n",
       "      <th>Start Lbs</th>\n",
       "      <th>Actual Yield</th>\n",
       "      <th>Standard Yield</th>\n",
       "      <th>Start date</th>\n",
       "      <th>Start date_year</th>\n",
       "      <th>Start date_month</th>\n",
       "      <th>Start date_week</th>\n",
       "      <th>Start date_day</th>\n",
       "      <th>Start date_dayofweek</th>\n",
       "      <th>Weekend</th>\n",
       "    </tr>\n",
       "  </thead>\n",
       "  <tbody>\n",
       "    <tr>\n",
       "      <th>0</th>\n",
       "      <td>0.308</td>\n",
       "      <td>0.2500</td>\n",
       "      <td>38.41</td>\n",
       "      <td>20989</td>\n",
       "      <td>0.962838</td>\n",
       "      <td>0.995705</td>\n",
       "      <td>2019-03-27</td>\n",
       "      <td>2019</td>\n",
       "      <td>3</td>\n",
       "      <td>13</td>\n",
       "      <td>27</td>\n",
       "      <td>2</td>\n",
       "      <td>False</td>\n",
       "    </tr>\n",
       "    <tr>\n",
       "      <th>1</th>\n",
       "      <td>0.308</td>\n",
       "      <td>0.0905</td>\n",
       "      <td>38.41</td>\n",
       "      <td>20209</td>\n",
       "      <td>1.000000</td>\n",
       "      <td>0.994892</td>\n",
       "      <td>2019-03-27</td>\n",
       "      <td>2019</td>\n",
       "      <td>3</td>\n",
       "      <td>13</td>\n",
       "      <td>27</td>\n",
       "      <td>2</td>\n",
       "      <td>False</td>\n",
       "    </tr>\n",
       "    <tr>\n",
       "      <th>2</th>\n",
       "      <td>0.308</td>\n",
       "      <td>0.0905</td>\n",
       "      <td>38.41</td>\n",
       "      <td>20209</td>\n",
       "      <td>1.000000</td>\n",
       "      <td>0.838448</td>\n",
       "      <td>2019-03-28</td>\n",
       "      <td>2019</td>\n",
       "      <td>3</td>\n",
       "      <td>13</td>\n",
       "      <td>28</td>\n",
       "      <td>3</td>\n",
       "      <td>False</td>\n",
       "    </tr>\n",
       "    <tr>\n",
       "      <th>4</th>\n",
       "      <td>0.308</td>\n",
       "      <td>0.0905</td>\n",
       "      <td>38.43</td>\n",
       "      <td>19590</td>\n",
       "      <td>1.000000</td>\n",
       "      <td>0.994892</td>\n",
       "      <td>2019-03-27</td>\n",
       "      <td>2019</td>\n",
       "      <td>3</td>\n",
       "      <td>13</td>\n",
       "      <td>27</td>\n",
       "      <td>2</td>\n",
       "      <td>False</td>\n",
       "    </tr>\n",
       "    <tr>\n",
       "      <th>5</th>\n",
       "      <td>0.308</td>\n",
       "      <td>0.0905</td>\n",
       "      <td>38.43</td>\n",
       "      <td>19590</td>\n",
       "      <td>1.000000</td>\n",
       "      <td>0.838448</td>\n",
       "      <td>2019-03-28</td>\n",
       "      <td>2019</td>\n",
       "      <td>3</td>\n",
       "      <td>13</td>\n",
       "      <td>28</td>\n",
       "      <td>3</td>\n",
       "      <td>False</td>\n",
       "    </tr>\n",
       "  </tbody>\n",
       "</table>\n",
       "</div>"
      ],
      "text/plain": [
       "   Metal Density  Start Gauge  Start Width  Start Lbs  Actual Yield  \\\n",
       "0          0.308       0.2500        38.41      20989      0.962838   \n",
       "1          0.308       0.0905        38.41      20209      1.000000   \n",
       "2          0.308       0.0905        38.41      20209      1.000000   \n",
       "4          0.308       0.0905        38.43      19590      1.000000   \n",
       "5          0.308       0.0905        38.43      19590      1.000000   \n",
       "\n",
       "   Standard Yield Start date  Start date_year  Start date_month  \\\n",
       "0        0.995705 2019-03-27             2019                 3   \n",
       "1        0.994892 2019-03-27             2019                 3   \n",
       "2        0.838448 2019-03-28             2019                 3   \n",
       "4        0.994892 2019-03-27             2019                 3   \n",
       "5        0.838448 2019-03-28             2019                 3   \n",
       "\n",
       "   Start date_week  Start date_day  Start date_dayofweek  Weekend  \n",
       "0               13              27                     2    False  \n",
       "1               13              27                     2    False  \n",
       "2               13              28                     3    False  \n",
       "4               13              27                     2    False  \n",
       "5               13              28                     3    False  "
      ]
     },
     "execution_count": 10,
     "metadata": {},
     "output_type": "execute_result"
    }
   ],
   "source": [
    "Aurubis.head()"
   ]
  },
  {
   "cell_type": "code",
   "execution_count": 11,
   "metadata": {
    "colab": {
     "base_uri": "https://localhost:8080/",
     "height": 278
    },
    "colab_type": "code",
    "id": "eF2jZhEM_4qS",
    "outputId": "346c3b90-c5cd-47bf-c5c4-6efee44875d9"
   },
   "outputs": [
    {
     "data": {
      "text/html": [
       "<div>\n",
       "<style scoped>\n",
       "    .dataframe tbody tr th:only-of-type {\n",
       "        vertical-align: middle;\n",
       "    }\n",
       "\n",
       "    .dataframe tbody tr th {\n",
       "        vertical-align: top;\n",
       "    }\n",
       "\n",
       "    .dataframe thead th {\n",
       "        text-align: right;\n",
       "    }\n",
       "</style>\n",
       "<table border=\"1\" class=\"dataframe\">\n",
       "  <thead>\n",
       "    <tr style=\"text-align: right;\">\n",
       "      <th></th>\n",
       "      <th>Metal Density</th>\n",
       "      <th>Start Gauge</th>\n",
       "      <th>Start Width</th>\n",
       "      <th>Start Lbs</th>\n",
       "      <th>Actual Yield</th>\n",
       "      <th>Standard Yield</th>\n",
       "      <th>Start date</th>\n",
       "      <th>Start date_month</th>\n",
       "      <th>Start date_week</th>\n",
       "      <th>Start date_day</th>\n",
       "      <th>Start date_dayofweek</th>\n",
       "      <th>Weekend</th>\n",
       "    </tr>\n",
       "    <tr>\n",
       "      <th>Start date_year</th>\n",
       "      <th></th>\n",
       "      <th></th>\n",
       "      <th></th>\n",
       "      <th></th>\n",
       "      <th></th>\n",
       "      <th></th>\n",
       "      <th></th>\n",
       "      <th></th>\n",
       "      <th></th>\n",
       "      <th></th>\n",
       "      <th></th>\n",
       "      <th></th>\n",
       "    </tr>\n",
       "  </thead>\n",
       "  <tbody>\n",
       "    <tr>\n",
       "      <th>2017</th>\n",
       "      <td>2</td>\n",
       "      <td>2</td>\n",
       "      <td>2</td>\n",
       "      <td>2</td>\n",
       "      <td>2</td>\n",
       "      <td>2</td>\n",
       "      <td>2</td>\n",
       "      <td>2</td>\n",
       "      <td>2</td>\n",
       "      <td>2</td>\n",
       "      <td>2</td>\n",
       "      <td>2</td>\n",
       "    </tr>\n",
       "    <tr>\n",
       "      <th>2018</th>\n",
       "      <td>1023</td>\n",
       "      <td>1023</td>\n",
       "      <td>1023</td>\n",
       "      <td>1023</td>\n",
       "      <td>1023</td>\n",
       "      <td>1023</td>\n",
       "      <td>1023</td>\n",
       "      <td>1023</td>\n",
       "      <td>1023</td>\n",
       "      <td>1023</td>\n",
       "      <td>1023</td>\n",
       "      <td>1023</td>\n",
       "    </tr>\n",
       "    <tr>\n",
       "      <th>2019</th>\n",
       "      <td>97950</td>\n",
       "      <td>97950</td>\n",
       "      <td>97950</td>\n",
       "      <td>97950</td>\n",
       "      <td>97950</td>\n",
       "      <td>97950</td>\n",
       "      <td>97950</td>\n",
       "      <td>97950</td>\n",
       "      <td>97950</td>\n",
       "      <td>97950</td>\n",
       "      <td>97950</td>\n",
       "      <td>97950</td>\n",
       "    </tr>\n",
       "    <tr>\n",
       "      <th>2020</th>\n",
       "      <td>9260</td>\n",
       "      <td>9260</td>\n",
       "      <td>9260</td>\n",
       "      <td>9260</td>\n",
       "      <td>9260</td>\n",
       "      <td>9260</td>\n",
       "      <td>9260</td>\n",
       "      <td>9260</td>\n",
       "      <td>9260</td>\n",
       "      <td>9260</td>\n",
       "      <td>9260</td>\n",
       "      <td>9260</td>\n",
       "    </tr>\n",
       "  </tbody>\n",
       "</table>\n",
       "</div>"
      ],
      "text/plain": [
       "                 Metal Density  Start Gauge  Start Width  Start Lbs  \\\n",
       "Start date_year                                                       \n",
       "2017                         2            2            2          2   \n",
       "2018                      1023         1023         1023       1023   \n",
       "2019                     97950        97950        97950      97950   \n",
       "2020                      9260         9260         9260       9260   \n",
       "\n",
       "                 Actual Yield  Standard Yield  Start date  Start date_month  \\\n",
       "Start date_year                                                               \n",
       "2017                        2               2           2                 2   \n",
       "2018                     1023            1023        1023              1023   \n",
       "2019                    97950           97950       97950             97950   \n",
       "2020                     9260            9260        9260              9260   \n",
       "\n",
       "                 Start date_week  Start date_day  Start date_dayofweek  \\\n",
       "Start date_year                                                          \n",
       "2017                           2               2                     2   \n",
       "2018                        1023            1023                  1023   \n",
       "2019                       97950           97950                 97950   \n",
       "2020                        9260            9260                  9260   \n",
       "\n",
       "                 Weekend  \n",
       "Start date_year           \n",
       "2017                   2  \n",
       "2018                1023  \n",
       "2019               97950  \n",
       "2020                9260  "
      ]
     },
     "execution_count": 11,
     "metadata": {},
     "output_type": "execute_result"
    }
   ],
   "source": [
    "Aurubis.groupby('Start date_year').count()"
   ]
  },
  {
   "cell_type": "code",
   "execution_count": 12,
   "metadata": {
    "colab": {
     "base_uri": "https://localhost:8080/",
     "height": 366
    },
    "colab_type": "code",
    "id": "C11A2fsg_4qU",
    "outputId": "97a3e9ea-eabb-4ad7-e046-c807124181ad"
   },
   "outputs": [
    {
     "data": {
      "text/html": [
       "<div>\n",
       "<style scoped>\n",
       "    .dataframe tbody tr th:only-of-type {\n",
       "        vertical-align: middle;\n",
       "    }\n",
       "\n",
       "    .dataframe tbody tr th {\n",
       "        vertical-align: top;\n",
       "    }\n",
       "\n",
       "    .dataframe thead th {\n",
       "        text-align: right;\n",
       "    }\n",
       "</style>\n",
       "<table border=\"1\" class=\"dataframe\">\n",
       "  <thead>\n",
       "    <tr style=\"text-align: right;\">\n",
       "      <th></th>\n",
       "      <th>Metal Density</th>\n",
       "      <th>Start Gauge</th>\n",
       "      <th>Start Width</th>\n",
       "      <th>Start Lbs</th>\n",
       "      <th>Actual Yield</th>\n",
       "      <th>Standard Yield</th>\n",
       "      <th>Start date</th>\n",
       "      <th>Start date_year</th>\n",
       "      <th>Start date_month</th>\n",
       "      <th>Start date_week</th>\n",
       "      <th>Start date_day</th>\n",
       "      <th>Weekend</th>\n",
       "    </tr>\n",
       "    <tr>\n",
       "      <th>Start date_dayofweek</th>\n",
       "      <th></th>\n",
       "      <th></th>\n",
       "      <th></th>\n",
       "      <th></th>\n",
       "      <th></th>\n",
       "      <th></th>\n",
       "      <th></th>\n",
       "      <th></th>\n",
       "      <th></th>\n",
       "      <th></th>\n",
       "      <th></th>\n",
       "      <th></th>\n",
       "    </tr>\n",
       "  </thead>\n",
       "  <tbody>\n",
       "    <tr>\n",
       "      <th>0</th>\n",
       "      <td>19193</td>\n",
       "      <td>19193</td>\n",
       "      <td>19193</td>\n",
       "      <td>19193</td>\n",
       "      <td>19193</td>\n",
       "      <td>19193</td>\n",
       "      <td>19193</td>\n",
       "      <td>19193</td>\n",
       "      <td>19193</td>\n",
       "      <td>19193</td>\n",
       "      <td>19193</td>\n",
       "      <td>19193</td>\n",
       "    </tr>\n",
       "    <tr>\n",
       "      <th>1</th>\n",
       "      <td>20435</td>\n",
       "      <td>20435</td>\n",
       "      <td>20435</td>\n",
       "      <td>20435</td>\n",
       "      <td>20435</td>\n",
       "      <td>20435</td>\n",
       "      <td>20435</td>\n",
       "      <td>20435</td>\n",
       "      <td>20435</td>\n",
       "      <td>20435</td>\n",
       "      <td>20435</td>\n",
       "      <td>20435</td>\n",
       "    </tr>\n",
       "    <tr>\n",
       "      <th>2</th>\n",
       "      <td>20849</td>\n",
       "      <td>20849</td>\n",
       "      <td>20849</td>\n",
       "      <td>20849</td>\n",
       "      <td>20849</td>\n",
       "      <td>20849</td>\n",
       "      <td>20849</td>\n",
       "      <td>20849</td>\n",
       "      <td>20849</td>\n",
       "      <td>20849</td>\n",
       "      <td>20849</td>\n",
       "      <td>20849</td>\n",
       "    </tr>\n",
       "    <tr>\n",
       "      <th>3</th>\n",
       "      <td>20780</td>\n",
       "      <td>20780</td>\n",
       "      <td>20780</td>\n",
       "      <td>20780</td>\n",
       "      <td>20780</td>\n",
       "      <td>20780</td>\n",
       "      <td>20780</td>\n",
       "      <td>20780</td>\n",
       "      <td>20780</td>\n",
       "      <td>20780</td>\n",
       "      <td>20780</td>\n",
       "      <td>20780</td>\n",
       "    </tr>\n",
       "    <tr>\n",
       "      <th>4</th>\n",
       "      <td>18696</td>\n",
       "      <td>18696</td>\n",
       "      <td>18696</td>\n",
       "      <td>18696</td>\n",
       "      <td>18696</td>\n",
       "      <td>18696</td>\n",
       "      <td>18696</td>\n",
       "      <td>18696</td>\n",
       "      <td>18696</td>\n",
       "      <td>18696</td>\n",
       "      <td>18696</td>\n",
       "      <td>18696</td>\n",
       "    </tr>\n",
       "    <tr>\n",
       "      <th>5</th>\n",
       "      <td>5625</td>\n",
       "      <td>5625</td>\n",
       "      <td>5625</td>\n",
       "      <td>5625</td>\n",
       "      <td>5625</td>\n",
       "      <td>5625</td>\n",
       "      <td>5625</td>\n",
       "      <td>5625</td>\n",
       "      <td>5625</td>\n",
       "      <td>5625</td>\n",
       "      <td>5625</td>\n",
       "      <td>5625</td>\n",
       "    </tr>\n",
       "    <tr>\n",
       "      <th>6</th>\n",
       "      <td>2657</td>\n",
       "      <td>2657</td>\n",
       "      <td>2657</td>\n",
       "      <td>2657</td>\n",
       "      <td>2657</td>\n",
       "      <td>2657</td>\n",
       "      <td>2657</td>\n",
       "      <td>2657</td>\n",
       "      <td>2657</td>\n",
       "      <td>2657</td>\n",
       "      <td>2657</td>\n",
       "      <td>2657</td>\n",
       "    </tr>\n",
       "  </tbody>\n",
       "</table>\n",
       "</div>"
      ],
      "text/plain": [
       "                      Metal Density  Start Gauge  Start Width  Start Lbs  \\\n",
       "Start date_dayofweek                                                       \n",
       "0                             19193        19193        19193      19193   \n",
       "1                             20435        20435        20435      20435   \n",
       "2                             20849        20849        20849      20849   \n",
       "3                             20780        20780        20780      20780   \n",
       "4                             18696        18696        18696      18696   \n",
       "5                              5625         5625         5625       5625   \n",
       "6                              2657         2657         2657       2657   \n",
       "\n",
       "                      Actual Yield  Standard Yield  Start date  \\\n",
       "Start date_dayofweek                                             \n",
       "0                            19193           19193       19193   \n",
       "1                            20435           20435       20435   \n",
       "2                            20849           20849       20849   \n",
       "3                            20780           20780       20780   \n",
       "4                            18696           18696       18696   \n",
       "5                             5625            5625        5625   \n",
       "6                             2657            2657        2657   \n",
       "\n",
       "                      Start date_year  Start date_month  Start date_week  \\\n",
       "Start date_dayofweek                                                       \n",
       "0                               19193             19193            19193   \n",
       "1                               20435             20435            20435   \n",
       "2                               20849             20849            20849   \n",
       "3                               20780             20780            20780   \n",
       "4                               18696             18696            18696   \n",
       "5                                5625              5625             5625   \n",
       "6                                2657              2657             2657   \n",
       "\n",
       "                      Start date_day  Weekend  \n",
       "Start date_dayofweek                           \n",
       "0                              19193    19193  \n",
       "1                              20435    20435  \n",
       "2                              20849    20849  \n",
       "3                              20780    20780  \n",
       "4                              18696    18696  \n",
       "5                               5625     5625  \n",
       "6                               2657     2657  "
      ]
     },
     "execution_count": 12,
     "metadata": {},
     "output_type": "execute_result"
    }
   ],
   "source": [
    "Aurubis.groupby('Start date_dayofweek').count()"
   ]
  },
  {
   "cell_type": "markdown",
   "metadata": {},
   "source": [
    "# 3. Build Models"
   ]
  },
  {
   "cell_type": "code",
   "execution_count": 13,
   "metadata": {
    "colab": {},
    "colab_type": "code",
    "id": "BXPs0S-W_4qW"
   },
   "outputs": [],
   "source": [
    "Y = Aurubis['Actual Yield']\n",
    "X = Aurubis.drop(['Actual Yield','Standard Yield','Start date'], axis=1)"
   ]
  },
  {
   "cell_type": "code",
   "execution_count": 14,
   "metadata": {
    "colab": {},
    "colab_type": "code",
    "id": "zUdog0PZ_4qX"
   },
   "outputs": [],
   "source": [
    "import sklearn\n",
    "from sklearn.model_selection import train_test_split\n",
    "from sklearn.ensemble import RandomForestRegressor\n",
    "from xgboost import XGBRegressor\n",
    "from sklearn.metrics import mean_squared_error\n",
    "from sklearn.linear_model import Ridge, RidgeCV, Lasso, LassoCV\n",
    "from sklearn.preprocessing import scale \n"
   ]
  },
  {
   "cell_type": "markdown",
   "metadata": {},
   "source": [
    "### Train And Test Set"
   ]
  },
  {
   "cell_type": "code",
   "execution_count": 15,
   "metadata": {
    "colab": {},
    "colab_type": "code",
    "id": "FksTKI-X_4qZ"
   },
   "outputs": [],
   "source": [
    "X_train, X_test, Y_train, Y_test = train_test_split(X, Y, test_size=0.33, random_state=0)"
   ]
  },
  {
   "cell_type": "markdown",
   "metadata": {},
   "source": [
    "### Random Forest And XGBoost"
   ]
  },
  {
   "cell_type": "code",
   "execution_count": 16,
   "metadata": {
    "colab": {},
    "colab_type": "code",
    "id": "mmxG-ePK_4qb"
   },
   "outputs": [],
   "source": [
    "regressors = [\n",
    "    RandomForestRegressor(max_depth=10, random_state=0, max_features = 10),\n",
    "    XGBRegressor(max_depth=10, learning_rate=0.1, random_state=0)\n",
    "    ]"
   ]
  },
  {
   "cell_type": "code",
   "execution_count": 17,
   "metadata": {
    "colab": {
     "base_uri": "https://localhost:8080/",
     "height": 34
    },
    "colab_type": "code",
    "id": "26oBJY3T_4qd",
    "outputId": "b41b2803-e302-4a9b-bfed-153f0f76ea8e"
   },
   "outputs": [],
   "source": [
    "MSE = []\n",
    "for regressor in regressors:\n",
    "    fit = regressor.fit(X_train, Y_train)\n",
    "    pred = fit.predict(X_test)\n",
    "    pred[pred > 1] = 1\n",
    "    mse = mean_squared_error( Y_test,pred)\n",
    "    MSE.append(mse)"
   ]
  },
  {
   "cell_type": "code",
   "execution_count": 18,
   "metadata": {},
   "outputs": [
    {
     "data": {
      "text/plain": [
       "[0.03031491717522165, 0.029734164123278766]"
      ]
     },
     "execution_count": 18,
     "metadata": {},
     "output_type": "execute_result"
    }
   ],
   "source": [
    "MSE # The MSE of XGB is smaller than that of Random Forest"
   ]
  },
  {
   "cell_type": "markdown",
   "metadata": {},
   "source": [
    "### Ridge Regression"
   ]
  },
  {
   "cell_type": "code",
   "execution_count": 19,
   "metadata": {
    "colab": {
     "base_uri": "https://localhost:8080/",
     "height": 34
    },
    "colab_type": "code",
    "id": "Nh8fNrJu_4qf",
    "outputId": "002ed9a0-7903-4e75-fdee-a7322d83c741"
   },
   "outputs": [],
   "source": [
    "alphas = 10**np.linspace(10,-2,100)*0.5"
   ]
  },
  {
   "cell_type": "code",
   "execution_count": 20,
   "metadata": {},
   "outputs": [
    {
     "data": {
      "text/plain": [
       "(100, 10)"
      ]
     },
     "execution_count": 20,
     "metadata": {},
     "output_type": "execute_result"
    }
   ],
   "source": [
    "ridge = Ridge(normalize = True)\n",
    "coefs = []\n",
    "\n",
    "for a in alphas:\n",
    "    ridge.set_params(alpha = a)\n",
    "    ridge.fit(X, Y)\n",
    "    coefs.append(ridge.coef_)\n",
    "    \n",
    "np.shape(coefs)"
   ]
  },
  {
   "cell_type": "code",
   "execution_count": 21,
   "metadata": {},
   "outputs": [
    {
     "data": {
      "text/plain": [
       "Text(0, 0.5, 'weights')"
      ]
     },
     "execution_count": 21,
     "metadata": {},
     "output_type": "execute_result"
    },
    {
     "data": {
      "image/png": "[encoded data removed]",
      "text/plain": [
       "<Figure size 432x288 with 1 Axes>"
      ]
     },
     "metadata": {
      "needs_background": "light"
     },
     "output_type": "display_data"
    }
   ],
   "source": [
    "ax = plt.gca()\n",
    "ax.plot(alphas, coefs)\n",
    "ax.set_xscale('log')\n",
    "plt.axis('tight')\n",
    "plt.xlabel('alpha')\n",
    "plt.ylabel('weights')"
   ]
  },
  {
   "cell_type": "code",
   "execution_count": 22,
   "metadata": {},
   "outputs": [],
   "source": [
    "X_train, X_test , y_train, y_test = train_test_split(X, Y, test_size=0.5, random_state=1)"
   ]
  },
  {
   "cell_type": "code",
   "execution_count": 23,
   "metadata": {},
   "outputs": [
    {
     "name": "stdout",
     "output_type": "stream",
     "text": [
      "Metal Density          -2.663890e-01\n",
      "Start Gauge             5.667810e-03\n",
      "Start Width             1.422991e-04\n",
      "Start Lbs               1.990359e-07\n",
      "Start date_year         4.012771e-04\n",
      "Start date_month       -4.625373e-05\n",
      "Start date_week        -1.045566e-05\n",
      "Start date_day          1.676478e-05\n",
      "Start date_dayofweek    1.800927e-04\n",
      "Weekend                 1.247354e-03\n",
      "dtype: float64\n",
      "0.033287424683203115\n"
     ]
    }
   ],
   "source": [
    "ridge2 = Ridge(alpha = 4, normalize = True)\n",
    "ridge2.fit(X_train, y_train)             # Fit a ridge regression on the training data\n",
    "pred2 = ridge2.predict(X_test)           # Use this model to predict the test data\n",
    "print(pd.Series(ridge2.coef_, index = X.columns)) # Print coefficients\n",
    "print(mean_squared_error(y_test, pred2))          # Calculate the test MSE"
   ]
  },
  {
   "cell_type": "code",
   "execution_count": 24,
   "metadata": {},
   "outputs": [
    {
     "name": "stdout",
     "output_type": "stream",
     "text": [
      "Metal Density          -1.486609e-10\n",
      "Start Gauge             4.497201e-12\n",
      "Start Width             8.916268e-14\n",
      "Start Lbs               1.300191e-16\n",
      "Start date_year         2.548167e-13\n",
      "Start date_month       -2.890950e-14\n",
      "Start date_week        -6.557733e-15\n",
      "Start date_day          8.799319e-15\n",
      "Start date_dayofweek    1.143872e-13\n",
      "Weekend                 7.337228e-13\n",
      "dtype: float64\n",
      "0.03336109779682562\n"
     ]
    }
   ],
   "source": [
    "ridge3 = Ridge(alpha = 10**10, normalize = True)\n",
    "ridge3.fit(X_train, y_train)             # Fit a ridge regression on the training data\n",
    "pred3 = ridge3.predict(X_test)           # Use this model to predict the test data\n",
    "print(pd.Series(ridge3.coef_, index = X.columns)) # Print coefficients\n",
    "print(mean_squared_error(y_test, pred3))          # Calculate the test MSE"
   ]
  },
  {
   "cell_type": "code",
   "execution_count": 25,
   "metadata": {},
   "outputs": [
    {
     "name": "stdout",
     "output_type": "stream",
     "text": [
      "Metal Density          -1.208460e+00\n",
      "Start Gauge            -9.220080e-03\n",
      "Start Width             5.282189e-04\n",
      "Start Lbs               2.782403e-07\n",
      "Start date_year         2.049714e-03\n",
      "Start date_month        8.964065e-03\n",
      "Start date_week        -2.114052e-03\n",
      "Start date_day          3.779787e-04\n",
      "Start date_dayofweek    5.837946e-05\n",
      "Weekend                 4.607088e-03\n",
      "dtype: float64\n",
      "0.0332210929503155\n"
     ]
    }
   ],
   "source": [
    "ridge2 = Ridge(alpha = 0, normalize = True)\n",
    "ridge2.fit(X_train, y_train)             # Fit a ridge regression on the training data\n",
    "pred = ridge2.predict(X_test)            # Use this model to predict the test data\n",
    "print(pd.Series(ridge2.coef_, index = X.columns)) # Print coefficients\n",
    "print(mean_squared_error(y_test, pred))           # Calculate the test MSE"
   ]
  },
  {
   "cell_type": "code",
   "execution_count": 26,
   "metadata": {},
   "outputs": [
    {
     "data": {
      "text/plain": [
       "0.08148754173103201"
      ]
     },
     "execution_count": 26,
     "metadata": {},
     "output_type": "execute_result"
    }
   ],
   "source": [
    "ridgecv = RidgeCV(alphas = alphas, scoring = 'neg_mean_squared_error', normalize = True)\n",
    "ridgecv.fit(X_train, y_train)\n",
    "ridgecv.alpha_"
   ]
  },
  {
   "cell_type": "code",
   "execution_count": 27,
   "metadata": {},
   "outputs": [
    {
     "data": {
      "text/plain": [
       "0.03322373020047222"
      ]
     },
     "execution_count": 27,
     "metadata": {},
     "output_type": "execute_result"
    }
   ],
   "source": [
    "ridge4 = Ridge(alpha = ridgecv.alpha_, normalize = True)\n",
    "ridge4.fit(X_train, y_train)\n",
    "mean_squared_error(y_test, ridge4.predict(X_test))"
   ]
  },
  {
   "cell_type": "code",
   "execution_count": 28,
   "metadata": {},
   "outputs": [
    {
     "data": {
      "text/plain": [
       "Metal Density          -1.107731e+00\n",
       "Start Gauge            -5.104001e-03\n",
       "Start Width             6.107207e-04\n",
       "Start Lbs               6.704882e-08\n",
       "Start date_year         1.511579e-03\n",
       "Start date_month       -1.751258e-04\n",
       "Start date_week        -4.885643e-05\n",
       "Start date_day          2.170140e-05\n",
       "Start date_dayofweek   -2.650524e-04\n",
       "Weekend                 5.718268e-03\n",
       "dtype: float64"
      ]
     },
     "execution_count": 28,
     "metadata": {},
     "output_type": "execute_result"
    }
   ],
   "source": [
    "ridge4.fit(X, Y)\n",
    "pd.Series(ridge4.coef_, index = X.columns)"
   ]
  },
  {
   "cell_type": "markdown",
   "metadata": {},
   "source": [
    "### Lasso Regression"
   ]
  },
  {
   "cell_type": "code",
   "execution_count": 29,
   "metadata": {},
   "outputs": [
    {
     "data": {
      "text/plain": [
       "Text(0, 0.5, 'weights')"
      ]
     },
     "execution_count": 29,
     "metadata": {},
     "output_type": "execute_result"
    },
    {
     "data": {
      "image/png": "[encoded data removed]",
      "text/plain": [
       "<Figure size 432x288 with 1 Axes>"
      ]
     },
     "metadata": {
      "needs_background": "light"
     },
     "output_type": "display_data"
    }
   ],
   "source": [
    "lasso = Lasso(max_iter = 10000, normalize = True)\n",
    "coefs = []\n",
    "\n",
    "for a in alphas:\n",
    "    lasso.set_params(alpha=a)\n",
    "    lasso.fit(scale(X_train), y_train)\n",
    "    coefs.append(lasso.coef_)\n",
    "    \n",
    "ax = plt.gca()\n",
    "ax.plot(alphas*2, coefs)\n",
    "ax.set_xscale('log')\n",
    "plt.axis('tight')\n",
    "plt.xlabel('alpha')\n",
    "plt.ylabel('weights')"
   ]
  },
  {
   "cell_type": "code",
   "execution_count": 30,
   "metadata": {},
   "outputs": [
    {
     "data": {
      "text/plain": [
       "0.03322125504135588"
      ]
     },
     "execution_count": 30,
     "metadata": {},
     "output_type": "execute_result"
    }
   ],
   "source": [
    "lassocv = LassoCV(alphas = None, cv = 10, max_iter = 100000, normalize = True)\n",
    "lassocv.fit(X_train, y_train)\n",
    "\n",
    "lasso.set_params(alpha=lassocv.alpha_)\n",
    "lasso.fit(X_train, y_train)\n",
    "mean_squared_error(y_test, lasso.predict(X_test))"
   ]
  },
  {
   "cell_type": "markdown",
   "metadata": {},
   "source": [
    "# 4. Predict Yield Using The Ridge Regression"
   ]
  },
  {
   "cell_type": "code",
   "execution_count": 31,
   "metadata": {
    "colab": {},
    "colab_type": "code",
    "id": "pq6Hbhv0Xzv4"
   },
   "outputs": [],
   "source": [
    "Aurubis['Predict Yield'] = ridge4.predict(X)\n",
    "Aurubis['Predict Yield'][Aurubis['Predict Yield'] > 1] = 1"
   ]
  },
  {
   "cell_type": "code",
   "execution_count": 32,
   "metadata": {
    "colab": {
     "base_uri": "https://localhost:8080/",
     "height": 402
    },
    "colab_type": "code",
    "id": "zYkuGFxYZLUx",
    "outputId": "2ddb861b-5e69-4702-832f-643b1344f251"
   },
   "outputs": [
    {
     "data": {
      "text/html": [
       "<div>\n",
       "<style scoped>\n",
       "    .dataframe tbody tr th:only-of-type {\n",
       "        vertical-align: middle;\n",
       "    }\n",
       "\n",
       "    .dataframe tbody tr th {\n",
       "        vertical-align: top;\n",
       "    }\n",
       "\n",
       "    .dataframe thead th {\n",
       "        text-align: right;\n",
       "    }\n",
       "</style>\n",
       "<table border=\"1\" class=\"dataframe\">\n",
       "  <thead>\n",
       "    <tr style=\"text-align: right;\">\n",
       "      <th></th>\n",
       "      <th>Actual Yield</th>\n",
       "      <th>Standard Yield</th>\n",
       "      <th>Predict Yield</th>\n",
       "    </tr>\n",
       "  </thead>\n",
       "  <tbody>\n",
       "    <tr>\n",
       "      <th>0</th>\n",
       "      <td>0.962838</td>\n",
       "      <td>0.995705</td>\n",
       "      <td>0.955793</td>\n",
       "    </tr>\n",
       "    <tr>\n",
       "      <th>1</th>\n",
       "      <td>1.000000</td>\n",
       "      <td>0.994892</td>\n",
       "      <td>0.956555</td>\n",
       "    </tr>\n",
       "    <tr>\n",
       "      <th>2</th>\n",
       "      <td>1.000000</td>\n",
       "      <td>0.838448</td>\n",
       "      <td>0.956311</td>\n",
       "    </tr>\n",
       "    <tr>\n",
       "      <th>4</th>\n",
       "      <td>1.000000</td>\n",
       "      <td>0.994892</td>\n",
       "      <td>0.956525</td>\n",
       "    </tr>\n",
       "    <tr>\n",
       "      <th>5</th>\n",
       "      <td>1.000000</td>\n",
       "      <td>0.838448</td>\n",
       "      <td>0.956282</td>\n",
       "    </tr>\n",
       "  </tbody>\n",
       "</table>\n",
       "</div>"
      ],
      "text/plain": [
       "   Actual Yield  Standard Yield  Predict Yield\n",
       "0      0.962838        0.995705       0.955793\n",
       "1      1.000000        0.994892       0.956555\n",
       "2      1.000000        0.838448       0.956311\n",
       "4      1.000000        0.994892       0.956525\n",
       "5      1.000000        0.838448       0.956282"
      ]
     },
     "execution_count": 32,
     "metadata": {},
     "output_type": "execute_result"
    }
   ],
   "source": [
    "Aurubis[['Actual Yield', 'Standard Yield', 'Predict Yield']].head()"
   ]
  },
  {
   "cell_type": "markdown",
   "metadata": {},
   "source": [
    "### Evaluate The Model On The Whole Dataset"
   ]
  },
  {
   "cell_type": "code",
   "execution_count": 33,
   "metadata": {
    "colab": {
     "base_uri": "https://localhost:8080/",
     "height": 34
    },
    "colab_type": "code",
    "id": "b8cpbWlYEsG8",
    "outputId": "64db78d2-2bfb-4572-bc3f-4faf4f476ce0"
   },
   "outputs": [
    {
     "data": {
      "text/plain": [
       "0.0331452194129566"
      ]
     },
     "execution_count": 33,
     "metadata": {},
     "output_type": "execute_result"
    }
   ],
   "source": [
    "mean_squared_error(Aurubis['Predict Yield'],Aurubis['Actual Yield'])"
   ]
  },
  {
   "cell_type": "markdown",
   "metadata": {},
   "source": [
    "# 5. Data Visualization of Predicted Yield"
   ]
  },
  {
   "cell_type": "code",
   "execution_count": 34,
   "metadata": {},
   "outputs": [
    {
     "data": {
      "text/plain": [
       "<matplotlib.axes._subplots.AxesSubplot at 0x1c2f5644a8>"
      ]
     },
     "execution_count": 34,
     "metadata": {},
     "output_type": "execute_result"
    },
    {
     "data": {
      "image/png": "[encoded data removed]",
      "text/plain": [
       "<Figure size 432x288 with 1 Axes>"
      ]
     },
     "metadata": {
      "needs_background": "light"
     },
     "output_type": "display_data"
    }
   ],
   "source": [
    "sns.distplot(Aurubis['Predict Yield'])"
   ]
  },
  {
   "cell_type": "code",
   "execution_count": 44,
   "metadata": {},
   "outputs": [
    {
     "data": {
      "text/plain": [
       "[Text(0, 0.5, 'Frequency')]"
      ]
     },
     "execution_count": 44,
     "metadata": {},
     "output_type": "execute_result"
    },
    {
     "data": {
      "image/png": "[encoded data removed]",
      "text/plain": [
       "<Figure size 432x288 with 1 Axes>"
      ]
     },
     "metadata": {},
     "output_type": "display_data"
    }
   ],
   "source": [
    "import seaborn as sns, numpy as np\n",
    "import matplotlib.pyplot as plt\n",
    "x = Aurubis['Predict Yield']\n",
    "ax = sns.distplot(x)\n",
    "\n",
    "x = ax.lines[0].get_xdata()\n",
    "y = ax.lines[0].get_ydata()\n",
    "plt.axvline(0.95, color='red')\n",
    "ax.set(ylabel = \"Frequency\")"
   ]
  },
  {
   "cell_type": "code",
   "execution_count": null,
   "metadata": {},
   "outputs": [],
   "source": []
  },
  {
   "cell_type": "code",
   "execution_count": null,
   "metadata": {},
   "outputs": [],
   "source": []
  }
 ],
 "metadata": {
  "accelerator": "GPU",
  "colab": {
   "collapsed_sections": [],
   "name": "predictive analysis.ipynb",
   "provenance": []
  },
  "kernelspec": {
   "display_name": "Python 3",
   "language": "python",
   "name": "python3"
  },
  "language_info": {
   "codemirror_mode": {
    "name": "ipython",
    "version": 3
   },
   "file_extension": ".py",
   "mimetype": "text/x-python",
   "name": "python",
   "nbconvert_exporter": "python",
   "pygments_lexer": "ipython3",
   "version": "3.7.3"
  },
  "toc": {
   "base_numbering": 1,
   "nav_menu": {},
   "number_sections": false,
   "sideBar": false,
   "skip_h1_title": false,
   "title_cell": "Table of Contents",
   "title_sidebar": "Contents",
   "toc_cell": false,
   "toc_position": {},
   "toc_section_display": false,
   "toc_window_display": false
  }
 },
 "nbformat": 4,
 "nbformat_minor": 1
}
